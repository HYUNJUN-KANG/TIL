{
 "cells": [
  {
   "cell_type": "code",
   "execution_count": 26,
   "metadata": {},
   "outputs": [
    {
     "name": "stdout",
     "output_type": "stream",
     "text": [
      "문자:applee\n",
      "p l"
     ]
    }
   ],
   "source": [
    "name = input('문자:')\n",
    "\n",
    "def get_middle_char(name):\n",
    "    \n",
    "    \n",
    "    list_name = list(name)\n",
    "    \n",
    "    len_name = len(list_name)\n",
    "    \n",
    "    if len_name % 2 == 1:\n",
    "        \n",
    "        center_num = (len_name - 1) // 2\n",
    "        \n",
    "        print(list_name[center_num])\n",
    "        \n",
    "    else:\n",
    "        center_num = (len_name - 1) // 2\n",
    "        \n",
    "        print(list_name[center_num], list_name[center_num + 1], end='')\n",
    "        \n",
    " \n",
    "        \n",
    "        \n",
    "    \n",
    "        \n",
    "get_middle_char(name)\n",
    "    \n",
    "    \n",
    "    \n",
    "    \n",
    "    \n",
    "    "
   ]
  },
  {
   "cell_type": "code",
   "execution_count": 27,
   "metadata": {},
   "outputs": [
    {
     "name": "stdout",
     "output_type": "stream",
     "text": [
      "10\n"
     ]
    }
   ],
   "source": [
    "def my_func(a, b):\n",
    "    c = a + b\n",
    "    print(c)\n",
    "    \n",
    "result = my_func(3,7)"
   ]
  },
  {
   "cell_type": "code",
   "execution_count": 42,
   "metadata": {
    "scrolled": true
   },
   "outputs": [
    {
     "name": "stdout",
     "output_type": "stream",
     "text": [
      "80\n"
     ]
    }
   ],
   "source": [
    "def my_avg(*args):\n",
    "    \n",
    "    sum = 0\n",
    "    \n",
    "    len_args = len(args)\n",
    "    \n",
    "    list_args = list(args)\n",
    "    for num in list_args:\n",
    "        \n",
    "        sum = sum + num\n",
    "        \n",
    "    \n",
    "    \n",
    "    result = sum // len_args\n",
    "        \n",
    "    print(result)\n",
    "        \n",
    "my_avg(77, 83)"
   ]
  },
  {
   "cell_type": "code",
   "execution_count": 47,
   "metadata": {},
   "outputs": [
    {
     "name": "stdout",
     "output_type": "stream",
     "text": [
      "6\n"
     ]
    }
   ],
   "source": [
    "numbers = []\n",
    "\n",
    "def list_sum(numbers):\n",
    "    \n",
    "    sum = 0\n",
    "    \n",
    "    for num in numbers:\n",
    "        \n",
    "        sum += num\n",
    "        \n",
    "        result = sum\n",
    "    print(sum)\n",
    "\n",
    "list_sum([1, 2, 3])"
   ]
  },
  {
   "cell_type": "code",
   "execution_count": 86,
   "metadata": {},
   "outputs": [
    {
     "name": "stdout",
     "output_type": "stream",
     "text": [
      "이름:a\n",
      "이름:a\n",
      "나이:12\n",
      "나이:13\n",
      "25\n"
     ]
    }
   ],
   "source": [
    "b = input('이름:')\n",
    "\n",
    "d = input('이름:')\n",
    "\n",
    "c = input('나이:')\n",
    "\n",
    "f = input('나이:')\n",
    "\n",
    "numbers_1 = {'name': 'b', 'age': c}\n",
    "\n",
    "numbers_2 = {'name': 'd', 'age': f}\n",
    "    \n",
    "\n",
    "numbers = [numbers_1, numbers_2]\n",
    "\n",
    "\n",
    "\n",
    "def dict_list_sum(numbers):\n",
    "    \n",
    "\n",
    "    \n",
    "    a = list(dict.values(numbers_1))\n",
    "    \n",
    "    b = list(dict.values(numbers_2))\n",
    "    \n",
    "    sum = int(a[1]) + int(b[1])\n",
    "    \n",
    "    print(sum)\n",
    "    \n",
    "dict_list_sum(numbers)"
   ]
  },
  {
   "cell_type": "code",
   "execution_count": 99,
   "metadata": {},
   "outputs": [
    {
     "ename": "SyntaxError",
     "evalue": "invalid syntax (<ipython-input-99-3e6d59ab0226>, line 16)",
     "output_type": "error",
     "traceback": [
      "\u001b[1;36m  File \u001b[1;32m\"<ipython-input-99-3e6d59ab0226>\"\u001b[1;36m, line \u001b[1;32m16\u001b[0m\n\u001b[1;33m    def all_list_sum([1, 2])\u001b[0m\n\u001b[1;37m                     ^\u001b[0m\n\u001b[1;31mSyntaxError\u001b[0m\u001b[1;31m:\u001b[0m invalid syntax\n"
     ]
    }
   ],
   "source": [
    "\n",
    "\n",
    "def all_list_sum(*args):\n",
    "    \n",
    "    \n",
    "    list_args = list(args)\n",
    "    \n",
    "    sum = 0\n",
    "    \n",
    "    for num in list_args:\n",
    "        \n",
    "        sum += num\n",
    "        \n",
    "        result = sum\n",
    "        \n",
    "    print(result)\n",
    "    \n",
    "def all_list_sum()"
   ]
  }
 ],
 "metadata": {
  "kernelspec": {
   "display_name": "Python 3",
   "language": "python",
   "name": "python3"
  },
  "language_info": {
   "codemirror_mode": {
    "name": "ipython",
    "version": 3
   },
   "file_extension": ".py",
   "mimetype": "text/x-python",
   "name": "python",
   "nbconvert_exporter": "python",
   "pygments_lexer": "ipython3",
   "version": "3.7.6"
  }
 },
 "nbformat": 4,
 "nbformat_minor": 4
}
